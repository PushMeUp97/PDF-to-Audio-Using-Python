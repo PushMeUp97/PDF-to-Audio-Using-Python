{
 "cells": [
  {
   "cell_type": "code",
   "execution_count": null,
   "id": "81215e58-706c-45f5-aef2-8d1c2abe0fa3",
   "metadata": {},
   "outputs": [],
   "source": [
    "# Importing the modules\n",
    "import PyPDF2\n",
    "import pyttsx3\n",
    "\n",
    "# Location of your PDF file\n",
    "path = open('C:\\\\Users\\\\Locas\\\\Desktop\\\\FileTestCodex\\\\PDF to Audio using Python\\\\Test Read Audio 02.pdf', 'rb')\n",
    "\n",
    "# Creating a PdfReader object\n",
    "pdfReader = PyPDF2.PdfReader(path)\n",
    "\n",
    "# Get an engine instance for the speech synthesis\n",
    "speak = pyttsx3.init()\n",
    "\n",
    "# Loop through all the pages\n",
    "for page_num in range(len(pdfReader.pages)):\n",
    "    text = pdfReader.pages[page_num].extract_text()\n",
    "    speak.say(text)\n",
    "    speak.runAndWait()\n",
    "\n",
    "# Stop the speech engine\n",
    "speak.stop()\n"
   ]
  },
  {
   "cell_type": "code",
   "execution_count": null,
   "id": "b7e47e9d-febc-43db-9eb3-88566f67bca7",
   "metadata": {},
   "outputs": [],
   "source": []
  }
 ],
 "metadata": {
  "kernelspec": {
   "display_name": "Python 3 (ipykernel)",
   "language": "python",
   "name": "python3"
  },
  "language_info": {
   "codemirror_mode": {
    "name": "ipython",
    "version": 3
   },
   "file_extension": ".py",
   "mimetype": "text/x-python",
   "name": "python",
   "nbconvert_exporter": "python",
   "pygments_lexer": "ipython3",
   "version": "3.12.6"
  }
 },
 "nbformat": 4,
 "nbformat_minor": 5
}
